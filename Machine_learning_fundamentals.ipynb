{
 "cells": [
  {
   "cell_type": "code",
   "execution_count": null,
   "metadata": {},
   "outputs": [],
   "source": [
    "dataset = [\n",
    "  (6.65, 30.7),\n",
    "  (8.19, 38.1),\n",
    "  (8.92, 44.7),\n",
    "  (6.21, 34.9),\n",
    "  (7.16, 41.0),\n",
    "  (5.79, 33.1),\n",
    "  (9.17, 41.4),\n",
    "  (8.75, 43.9),\n",
    "  (6.77, 31.5),\n",
    "  (5.65, 34.3),\n",
    "  (7.22, 37.5),\n",
    "  (7.74, 39.9),\n",
    "  (6.58, 39.2),\n",
    "  (8.54, 45.0),\n",
    "  (5.65, 29.5),\n",
    "  (6.49, 37.5),\n",
    "  (5.08, 34.2),\n",
    "  (8.62, 42.7),\n",
    "  (8.47, 39.2),\n",
    "  (5.16, 33.0),\n",
    "]\n",
    "def pred_func(x, w1, b):\n",
    "    #calculating the y prediction value \n",
    "    return (x * w1 + b)\n",
    "    \n",
    "def cost_func(w1, b):\n",
    "    #calculating the cost function for linear regression \n",
    "    sq_e_list = list()\n",
    "    for x, Ytrue in dataset:\n",
    "        #caluculating the y predictied value\n",
    "        y_pred = pred_func(x, w1, b)\n",
    "        \n",
    "        #calculaitng the residual square \n",
    "        sq_e = (y_pred - Ytrue) ** 2\n",
    "        \n",
    "        #appending the new residual squared value\n",
    "        sq_e_list.append(sq_e)\n",
    "        \n",
    "    return (sum(sq_e_list)/len(sq_e_list))\n",
    "\n",
    "#seperating x and y values \n",
    "xs = [x for x, _ in dataset]\n",
    "ys = [y for _, y in dataset]\n",
    "\n",
    "#declaring weights and bias\n",
    "w1 = 3.2\n",
    "b  = 15\n",
    "\n",
    "#calculating cost function \n",
    "cost = cost_func(w1, b)\n",
    "\n",
    "#printing the cost function\n",
    "print('Cost: ', str(cost), end = '\\n\\n')\n",
    "\n",
    "\n",
    "#calculating predictions \n",
    "pred = [pred_func(x, w1, b) for x in xs]\n",
    "\n",
    "print(pred)\n",
    "\n",
    "import matplotlib.pyplot as plt\n",
    "\n",
    "plt.scatter(xs, ys, c = 'green')\n",
    "plt.plot(xs, pred, c = 'blue')\n",
    "plt.xlim(4.0, 10.0)\n",
    "plt.ylim(min(0.0, min(pred)), max(50.0, max(pred)))\n",
    "\n",
    "plt.show()\n"
   ]
  },
  {
   "cell_type": "markdown",
   "metadata": {},
   "source": [
    "# finding the cost function usage\n",
    "\n",
    "Here we need to focus on getting the minimum cost function i.e we need to find the optimal values for the parameters weights and bias\n",
    "\n",
    "here in the following the code I took the bias as 15\n",
    "and drawn the graph for cost function by giving the weights of the parameter in the range 2.0 to 4.4.\n",
    "\n",
    "From Seeing this graph I can find out at which point of weight i got the minimum cost function .\n"
   ]
  },
  {
   "cell_type": "code",
   "execution_count": 10,
   "metadata": {},
   "outputs": [
    {
     "data": {
      "image/png": "[encoded data removed]",
      "text/plain": [
       "<Figure size 432x288 with 1 Axes>"
      ]
     },
     "metadata": {},
     "output_type": "display_data"
    }
   ],
   "source": [
    "from numpy import arange\n",
    "\n",
    "c_list = list()\n",
    "l = list()\n",
    "for i in arange(2.0, 4.4 , 0.1):\n",
    "    l.append(i)\n",
    "    c_list.append(cost_func(i, 15 ))\n",
    "plt.plot(l, c_list, c = 'orange')\n",
    "plt.show()\n",
    "\n"
   ]
  },
  {
   "cell_type": "code",
   "execution_count": 5,
   "metadata": {},
   "outputs": [
    {
     "name": "stdout",
     "output_type": "stream",
     "text": [
      "0.111044\n",
      "\n",
      "0.18343399999999999\n",
      "\n",
      "0.005522\n",
      "\n"
     ]
    }
   ],
   "source": [
    "w1 = 0.1056 - ((0.001)*(-5.444))\n",
    "w2 = 0.1916 - ((0.001)*(8.166))\n",
    "b = 0.0028 - (0.001)*(-2.722)\n",
    "print(w1, end = '\\n\\n')\n",
    "print(w2, end = '\\n\\n')\n",
    "print(b, end = '\\n\\n')"
   ]
  },
  {
   "cell_type": "code",
   "execution_count": 2,
   "metadata": {},
   "outputs": [
    {
     "name": "stdout",
     "output_type": "stream",
     "text": [
      "-0.36079999999999995\n"
     ]
    }
   ],
   "source": [
    "x1= 2\n",
    "x2 = -3\n",
    "\n",
    "def pred_func_2(w1, w2, b):\n",
    "    return (w1*x1) + (w2*x2) + b\n",
    "    \n",
    "print(pred_func_2(0.1056, 0.1916, 0.0028))\n",
    "\n"
   ]
  },
  {
   "cell_type": "code",
   "execution_count": 3,
   "metadata": {},
   "outputs": [
    {
     "name": "stdout",
     "output_type": "stream",
     "text": [
      "-0.36079999999999995\n"
     ]
    }
   ],
   "source": [
    "print((0.1056)*2 +(0.1916)*(-3)+0.0028)"
   ]
  },
  {
   "cell_type": "code",
   "execution_count": 7,
   "metadata": {},
   "outputs": [
    {
     "name": "stdout",
     "output_type": "stream",
     "text": [
      "[[ 0.03807591  0.05068012  0.06169621 ... -0.00259226  0.01990842\n",
      "  -0.01764613]\n",
      " [-0.00188202 -0.04464164 -0.05147406 ... -0.03949338 -0.06832974\n",
      "  -0.09220405]\n",
      " [ 0.08529891  0.05068012  0.04445121 ... -0.00259226  0.00286377\n",
      "  -0.02593034]\n",
      " ...\n",
      " [ 0.04170844  0.05068012 -0.01590626 ... -0.01107952 -0.04687948\n",
      "   0.01549073]\n",
      " [-0.04547248 -0.04464164  0.03906215 ...  0.02655962  0.04452837\n",
      "  -0.02593034]\n",
      " [-0.04547248 -0.04464164 -0.0730303  ... -0.03949338 -0.00421986\n",
      "   0.00306441]]\n"
     ]
    }
   ],
   "source": [
    " \n",
    "import numpy as np\n",
    "from sklearn import datasets, linear_model, metrics\n",
    " \n",
    "###############################################################################\n",
    "## Load the diabetes dataset\n",
    " \n",
    "diabetes = datasets.load_diabetes()\n",
    "diabetes_X = diabetes.data # matrix of dimensions 442x10\n",
    "print(diabetes_X)\n",
    "# Split the data into training/testing sets\n",
    "diabetes_X_train = diabetes_X[:-20]\n",
    "diabetes_X_test = diabetes_X[-20:]\n",
    " \n",
    "# Split the targets into training/testing sets\n",
    "diabetes_y_train = diabetes.target[:-20]\n",
    "diabetes_y_test = diabetes.target[-20:]\n",
    " \n"
   ]
  },
  {
   "cell_type": "code",
   "execution_count": 14,
   "metadata": {},
   "outputs": [
    {
     "name": "stdout",
     "output_type": "stream",
     "text": [
      "Coefficients: \n",
      " [ 3.03499549e-01 -2.37639315e+02  5.10530605e+02  3.27736980e+02\n",
      " -8.14131709e+02  4.92814588e+02  1.02848452e+02  1.84606489e+02\n",
      "  7.43519617e+02  7.60951722e+01]\n",
      "Mean squared error: 2004.57\n",
      "========================================================================================================================\n"
     ]
    }
   ],
   "source": [
    "# Create linear regression object\n",
    "regr = linear_model.LinearRegression()\n",
    " \n",
    "# Train the model using the training sets\n",
    "regr.fit(diabetes_X_train, diabetes_y_train)\n",
    " \n",
    "# Make predictions using the testing set\n",
    "diabetes_y_pred = regr.predict(diabetes_X_test)\n",
    " \n",
    "# The coefficients\n",
    "print('Coefficients: \\n', regr.coef_)\n",
    "# The mean squared error\n",
    "mean_squared_error = metrics.mean_squared_error(diabetes_y_test, diabetes_y_pred)\n",
    "print(\"Mean squared error: %.2f\" % mean_squared_error)\n",
    "print(\"=\"*120)\n",
    " \n"
   ]
  },
  {
   "cell_type": "code",
   "execution_count": null,
   "metadata": {},
   "outputs": [],
   "source": []
  }
 ],
 "metadata": {
  "kernelspec": {
   "display_name": "Python 3",
   "language": "python",
   "name": "python3"
  },
  "language_info": {
   "codemirror_mode": {
    "name": "ipython",
    "version": 3
   },
   "file_extension": ".py",
   "mimetype": "text/x-python",
   "name": "python",
   "nbconvert_exporter": "python",
   "pygments_lexer": "ipython3",
   "version": "3.7.4"
  }
 },
 "nbformat": 4,
 "nbformat_minor": 2
}
